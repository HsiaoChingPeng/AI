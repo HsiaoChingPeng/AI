{
 "cells": [
  {
   "cell_type": "code",
   "execution_count": 1,
   "metadata": {},
   "outputs": [
    {
     "name": "stderr",
     "output_type": "stream",
     "text": [
      "Building prefix dict from the default dictionary ...\n",
      "Loading model from cache C:\\Users\\User\\AppData\\Local\\Temp\\jieba.cache\n",
      "Loading model cost 0.774 seconds.\n",
      "Prefix dict has been built succesfully.\n"
     ]
    },
    {
     "name": "stdout",
     "output_type": "stream",
     "text": [
      "Full Mode: 彭/ 筱/ 晴/ 到/ 台中/ 教育/ 大/ 學/ 就/ 讀/ 數/ 位/ 系\n",
      "Default Mode: 彭筱晴/ 到/ 台/ 中/ 教育/ 大學/ 就/ 讀數/ 位系\n",
      "彭筱晴｜ 到｜ 台｜ 中｜ 教育｜ 大學｜ 就｜ 讀數｜ 位系\n",
      "彭筱晴｜ 到｜ 台｜ 中｜ 教育｜ 大學｜ 就｜ 讀數｜ 位系｜ ，｜ 現在｜ 好｜ 餓\n"
     ]
    }
   ],
   "source": [
    "import jieba\n",
    "\n",
    "seg_list = jieba.cut(\"彭筱晴到台中教育大學就讀數位系\",cut_all=True)\n",
    "print (\"Full Mode:\", \"/ \".join(seg_list)) #全模式\n",
    "\n",
    "seg_list = jieba.cut(\"彭筱晴到台中教育大學就讀數位系\",cut_all=False)\n",
    "print (\"Default Mode:\", \"/ \".join(seg_list)) #精確模式\n",
    "\n",
    "seg_list = jieba.cut(\"彭筱晴到台中教育大學就讀數位系\") #默認是精確模式\n",
    "print (\"｜ \".join(seg_list))\n",
    "\n",
    "seg_list = jieba.cut_for_search(\"彭筱晴到台中教育大學就讀數位系，現在好餓\") #搜索引擎模式\n",
    "print (\"｜ \".join(seg_list))"
   ]
  },
  {
   "cell_type": "code",
   "execution_count": 2,
   "metadata": {},
   "outputs": [
    {
     "name": "stdout",
     "output_type": "stream",
     "text": [
      "預設模式:彭筱晴|到|台|中|教育|大學|就|讀數|位系\n",
      "全文模式:彭|筱|晴|到|台中|教育|大|學|就|讀|數|位|系\n",
      "搜尋引擎:彭筱晴|到|台|中|教育|大學|就|讀數|位系\n"
     ]
    }
   ],
   "source": [
    "\n",
    "sentence = \"彭筱晴到台中教育大學就讀數位系\"\n",
    "# 預設模式斷詞\n",
    "breakword = jieba.cut(sentence, cut_all=False)\n",
    "print(\"預設模式:\" + '|' . join(breakword))\n",
    "\n",
    "# 全文模式斷詞\n",
    "breakword = jieba.cut(sentence, cut_all=True)\n",
    "print(\"全文模式:\" + '|' . join(breakword))\n",
    "\n",
    "# 搜尋引擎模式斷詞\n",
    "breakword = jieba.cut_for_search(sentence)\n",
    "print(\"搜尋引擎:\" + '|' . join(breakword))\n"
   ]
  },
  {
   "cell_type": "code",
   "execution_count": null,
   "metadata": {},
   "outputs": [],
   "source": []
  }
 ],
 "metadata": {
  "kernelspec": {
   "display_name": "Python 3",
   "language": "python",
   "name": "python3"
  },
  "language_info": {
   "codemirror_mode": {
    "name": "ipython",
    "version": 3
   },
   "file_extension": ".py",
   "mimetype": "text/x-python",
   "name": "python",
   "nbconvert_exporter": "python",
   "pygments_lexer": "ipython3",
   "version": "3.7.0"
  }
 },
 "nbformat": 4,
 "nbformat_minor": 2
}
